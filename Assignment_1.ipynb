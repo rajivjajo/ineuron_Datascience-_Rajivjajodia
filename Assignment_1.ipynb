{
 "cells": [
  {
   "cell_type": "code",
   "execution_count": null,
   "id": "574bcf09",
   "metadata": {},
   "outputs": [],
   "source": [
    "'''Q1. In the below elements which of them are values or an expression? eg:- values can be\n",
    "integer or string and expressions will be mathematical operators. \n",
    "\n",
    "Ans: * - Arithmetic Operator(Multiplication)\n",
    "'hello' - String(value)\n",
    "      -   - Arithmetic Operator(Substraction)\n",
    "    /     -  Arithmetic Operator(Division)\n",
    "    +     -  Arithmetic Operator(Addition)\n",
    "    6     - Integer (Value)\n",
    "    '''"
   ]
  },
  {
   "cell_type": "code",
   "execution_count": null,
   "id": "27ef2ae7",
   "metadata": {},
   "outputs": [],
   "source": [
    "'''\n",
    "Q2. What is the difference between string and variable?\n",
    "Ans:A Variable is a store of information, and a String is a type of information you would store in a Variable.\n",
    "\n",
    "'''"
   ]
  },
  {
   "cell_type": "code",
   "execution_count": null,
   "id": "c998dfe8",
   "metadata": {},
   "outputs": [],
   "source": [
    "'''\n",
    "Q3. Describe three different data types.\n",
    "Ans:\n",
    "Data Types\tExamples\tExplanation\tMutable/Immutable?\n",
    "Strings\t\"Hello!\", \"23.34\"\tText - anything between\n",
    "\" \"  becomes string\tImmutable\n",
    "Integers\t5364\tWhole numbers\tImmutable\n",
    "Floats\t3.1415\tDecimal Numbers\tImmutable\n",
    "Booleans\tTrue, False\tTruth values that represent Yes/No\tImmutable\n",
    "Lists\t[1,2,3,4,5]\tA collection of data,\n",
    "sits between  [ ]  \tMutable\n",
    "Tuples\t(1,2,3,4,5)\tA collection of data,\n",
    "sits between  ( )  \tImmutable\n",
    "Dictionaries\t{\"a\":1, \"b\":2, \"c\":3}\tA collection of data, \n",
    "sits between  { }  \tMutable\n",
    "'''"
   ]
  },
  {
   "cell_type": "code",
   "execution_count": null,
   "id": "c42c1267",
   "metadata": {},
   "outputs": [],
   "source": [
    "'''\n",
    "Q4. What is an expression made up of? What do all expressions do?\n",
    "Ans:An expression is a construct made up of variables, operators, and method invocations, which are constructed according to the syntax of the language, that evaluates to a single value.\n",
    "'''"
   ]
  },
  {
   "cell_type": "code",
   "execution_count": null,
   "id": "0ce97187",
   "metadata": {},
   "outputs": [],
   "source": [
    "'''\n",
    "Q5. This assignment statements, like spam = 10. What is the difference between an\n",
    "expression and a statement?\n",
    "Ans:This assignment statements, like spam = 10. What is the difference between an expression and a statement? Expression is made up of values, containers, and mathematical operators (operands) and the statement is just like a command that a python interpreter executes like print.\n",
    "'''"
   ]
  },
  {
   "cell_type": "code",
   "execution_count": null,
   "id": "f60d9ead",
   "metadata": {},
   "outputs": [],
   "source": [
    "'''\n",
    "Q6. After running the following code, what does the variable bacon contain?\n",
    "bacon = 22\n",
    "bacon + 1\n",
    "Ans:It gives 23\n",
    "'''"
   ]
  },
  {
   "cell_type": "code",
   "execution_count": null,
   "id": "d2383a5d",
   "metadata": {},
   "outputs": [],
   "source": [
    "'''\n",
    "Q7. What should the values of the following two terms be?\n",
    "'spam' + 'spamspam';\n",
    "'spam' * 3\n",
    "Ans:It'll give same result.\n",
    "'''"
   ]
  },
  {
   "cell_type": "code",
   "execution_count": null,
   "id": "520bd1aa",
   "metadata": {},
   "outputs": [],
   "source": [
    "'''\n",
    "Q8. Why is eggs a valid variable name while 100 is invalid?\n",
    "Ans:A variable name must start with a letter or the underscore character.\n",
    "A variable name cannot start with a number.\n",
    "A variable name can only contain alpha-numeric characters and underscores (A-z, 0-9, and _ )\n",
    "Variable names are case-sensitive (age, Age and AGE are three different variables)\n",
    "'''"
   ]
  },
  {
   "cell_type": "code",
   "execution_count": null,
   "id": "11758291",
   "metadata": {},
   "outputs": [],
   "source": [
    "'''\n",
    "Q9. What three functions can be used to get the integer, floating-point number, or string\n",
    "version of a value?\n",
    "Ans: str(), int(), float()\n",
    "'''"
   ]
  },
  {
   "cell_type": "code",
   "execution_count": null,
   "id": "0afc11cb",
   "metadata": {},
   "outputs": [],
   "source": [
    "'''\n",
    "Q10. Why does this expression cause an error? How can you fix it?\n",
    "'I have eaten' + 99 + 'burritos';\n",
    "Ans:Because 99 is an interger and we are trying add it to string. It can be added after typecasting.\n",
    "'''"
   ]
  },
  {
   "cell_type": "code",
   "execution_count": null,
   "id": "f0be2c9c",
   "metadata": {},
   "outputs": [],
   "source": [
    "'''\n",
    "Q10. Why does this expression cause an error? How can you fix it?\n",
    "'I have eaten' + 99 + 'burritos';\n",
    "Ans:Because 99 is an interger and we are trying add it to string. It can be added after typecasting.\n",
    "'''"
   ]
  }
 ],
 "metadata": {
  "kernelspec": {
   "display_name": "Python 3 (ipykernel)",
   "language": "python",
   "name": "python3"
  },
  "language_info": {
   "codemirror_mode": {
    "name": "ipython",
    "version": 3
   },
   "file_extension": ".py",
   "mimetype": "text/x-python",
   "name": "python",
   "nbconvert_exporter": "python",
   "pygments_lexer": "ipython3",
   "version": "3.9.12"
  }
 },
 "nbformat": 4,
 "nbformat_minor": 5
}
