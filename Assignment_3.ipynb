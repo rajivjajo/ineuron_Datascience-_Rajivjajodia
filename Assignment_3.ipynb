{
 "cells": [
  {
   "cell_type": "markdown",
   "id": "21cb2cd3",
   "metadata": {},
   "source": [
    "Q1. Why are functions advantageous to have in your programs?\n",
    "Ans: It avoids repetition and makes a high degree of code reusing. It provides better modularity for your application"
   ]
  },
  {
   "cell_type": "markdown",
   "id": "5b394d99",
   "metadata": {},
   "source": [
    "Q2. When does the code in a function run: when it's specified or when it's called?\n",
    "\n",
    "Ans:It runs when it is called."
   ]
  },
  {
   "cell_type": "markdown",
   "id": "bd3343f3",
   "metadata": {},
   "source": [
    "Q3. what statement creates a function ?\n",
    "\n",
    "Ans:Declares the name, arguments, and code that form the body of a function procedure.In Python \"def\" keyword is used to create function followed by given function name and parenthesis."
   ]
  },
  {
   "cell_type": "code",
   "execution_count": 28,
   "id": "ddccac28",
   "metadata": {},
   "outputs": [
    {
     "name": "stdout",
     "output_type": "stream",
     "text": [
      "Name: Rajiv\n"
     ]
    }
   ],
   "source": [
    "#example\n",
    "def my_function(fname):\n",
    "  print(fname + \" Rajiv\")\n",
    "\n",
    "my_function(\"Name:\")\n"
   ]
  },
  {
   "cell_type": "markdown",
   "id": "38406af2",
   "metadata": {},
   "source": [
    "Q4. What is the difference between a function and a function call?\n",
    "\n",
    "\n",
    "Ans:A function is a block of code that does a particular operation and returns a result. It usually accepts inputs as parameters and returns a result. The parameters are not mandatory. A function call is the code used to pass control to a function."
   ]
  },
  {
   "cell_type": "markdown",
   "id": "14e56f0d",
   "metadata": {},
   "source": [
    "Q5. How many global scopes are there in a Python program? How many local scopes?\n",
    "\n",
    "Ans:A variable created in the main body of the Python code is a global variable and belongs to the global scope.Global variables are available from within any scope, global and local.\n",
    " A variable created inside a function belongs to the local scope of that function, and can only be used inside that function.\n"
   ]
  },
  {
   "cell_type": "markdown",
   "id": "21c2b979",
   "metadata": {},
   "source": [
    "Q6. What happens to variables in a local scope when the function call returns?\n",
    "\n",
    "Ans:A local variable retains its value until the next time the function is called A local variable becomes undefined after the function call completes The local variable can be used outside the function any time after the function call completes."
   ]
  },
  {
   "cell_type": "markdown",
   "id": "0936676b",
   "metadata": {},
   "source": [
    "Q7. What is the concept of a return value? Is it possible to have a return value in an expression?\n",
    "\n",
    "Ans:A return is a value that a function returns to the calling function when it completes its task.\n",
    "The Python return statement is used to return a value from a function. The user can only use the return statement in a function. It cannot be used outside of the Python function,return can be an expression but can not be used in it. A return statement includes the return keyword and the value that will be returned after that."
   ]
  },
  {
   "cell_type": "markdown",
   "id": "be40910d",
   "metadata": {},
   "source": [
    "Q8. If a function does not have a return statement, what is the return value of a call to that function?\n",
    "\n",
    "Ans:If a function doesn't specify a return value, it returns None ."
   ]
  },
  {
   "cell_type": "markdown",
   "id": "8f2310a6",
   "metadata": {},
   "source": [
    "Q9. How do you make a function variable refer to the global variable?\n",
    "\n",
    "Ans:If you want to refer to a global variable in a function, you can use the global keyword to declare which variables are global.\n",
    "\n",
    "\n"
   ]
  },
  {
   "cell_type": "markdown",
   "id": "22537ec8",
   "metadata": {},
   "source": [
    "Q10. What is the data type of None?\n",
    "Ans:The None keyword is used to define a null value, or no value at all. None is not the same as 0, False, or an empty string. None is a data type of its own (NoneType) and only None can be None."
   ]
  },
  {
   "cell_type": "markdown",
   "id": "22e9dbc7",
   "metadata": {},
   "source": [
    "Q11. What does the sentence import areallyourpetsnamederic do?\n",
    "Ans:That import statement imports a module named areallyourpetsnamederic."
   ]
  },
  {
   "cell_type": "markdown",
   "id": "03fcc2e7",
   "metadata": {},
   "source": [
    "Q12. If you had a bacon() feature in a spam module, what would you call it after importing spam?\n",
    "Ans: This function can be called with spam. bacon()."
   ]
  },
  {
   "cell_type": "markdown",
   "id": "09d3d15d",
   "metadata": {},
   "source": [
    "Q13. What can you do to save a programme from crashing if it encounters an error?\n",
    "Ans:Programmme can be saved by using exception handling."
   ]
  },
  {
   "cell_type": "markdown",
   "id": "17d1c21a",
   "metadata": {},
   "source": [
    "Q14. What is the purpose of the try clause? What is the purpose of the except clause?\n",
    "\n",
    "Ans:The try block let us test a block of code for errors. The except block let us handle the error."
   ]
  }
 ],
 "metadata": {
  "kernelspec": {
   "display_name": "Python 3 (ipykernel)",
   "language": "python",
   "name": "python3"
  },
  "language_info": {
   "codemirror_mode": {
    "name": "ipython",
    "version": 3
   },
   "file_extension": ".py",
   "mimetype": "text/x-python",
   "name": "python",
   "nbconvert_exporter": "python",
   "pygments_lexer": "ipython3",
   "version": "3.9.12"
  }
 },
 "nbformat": 4,
 "nbformat_minor": 5
}
