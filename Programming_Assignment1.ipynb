{
 "cells": [
  {
   "cell_type": "markdown",
   "id": "e447c522",
   "metadata": {},
   "source": [
    "1. Write a Python program to print \"Hello Python\"?"
   ]
  },
  {
   "cell_type": "code",
   "execution_count": 2,
   "id": "d6af3e9a",
   "metadata": {},
   "outputs": [
    {
     "name": "stdout",
     "output_type": "stream",
     "text": [
      "Hello Python\n"
     ]
    }
   ],
   "source": [
    "print(\"Hello Python\")"
   ]
  },
  {
   "cell_type": "markdown",
   "id": "cc3db0ac",
   "metadata": {},
   "source": [
    "2. Write a Python program to do arithmetical operations addition and division.?"
   ]
  },
  {
   "cell_type": "code",
   "execution_count": 1,
   "id": "6fa648c3",
   "metadata": {},
   "outputs": [
    {
     "name": "stdout",
     "output_type": "stream",
     "text": [
      "enter first  value\n",
      "3\n",
      "enter second value\n",
      "4\n",
      "Sum of 3.0 and 4.0 :7.0\n",
      "Division of 3.0 and 4.0 :0.75\n"
     ]
    }
   ],
   "source": [
    "num1=float(input(\"enter first  value\\n\"))\n",
    "num2=float(input(\"enter second value\\n\"))\n",
    "\n",
    "add=num1+num2\n",
    "div=num1/num2\n",
    "\n",
    "print(\"Sum of {} and {} :{}\".format(num1,num2,add))\n",
    "print(\"Division of {} and {} :{}\".format(num1,num2,div))"
   ]
  },
  {
   "cell_type": "markdown",
   "id": "dfc76b0c",
   "metadata": {},
   "source": [
    "3. Write a Python program to find the area of a triangle?"
   ]
  },
  {
   "cell_type": "code",
   "execution_count": 9,
   "id": "be44602f",
   "metadata": {},
   "outputs": [
    {
     "name": "stdout",
     "output_type": "stream",
     "text": [
      "Enter 1st side2\n",
      "Enter 2nd side2\n",
      "Enter 3rd side2\n",
      "The area of the triangle is: 11.61895003862225\n"
     ]
    }
   ],
   "source": [
    "a=float(input(\"Enter 1st side\"))\n",
    "b=float(input(\"Enter 2nd side\"))\n",
    "c=float(input(\"Enter 3rd side\"))\n",
    "\n",
    "# Semi perimeter of triangle\n",
    "s=a+b+c/2\n",
    "\n",
    "# Area of triangle\n",
    "area = (s*(s-a)*(s-b)*(s-c)) ** 0.5  \n",
    "print('The area of the triangle is:',area)\n"
   ]
  },
  {
   "cell_type": "markdown",
   "id": "9ab4383a",
   "metadata": {},
   "source": [
    "4. Write a Python program to swap two variables?"
   ]
  },
  {
   "cell_type": "code",
   "execution_count": 16,
   "id": "17c5f2a7",
   "metadata": {},
   "outputs": [
    {
     "name": "stdout",
     "output_type": "stream",
     "text": [
      "Please enter value for P: 3\n",
      "Please enter value for Q: 5\n",
      "The Value of P after swapping:  5\n",
      "The Value of Q after swapping:  3\n"
     ]
    }
   ],
   "source": [
    "P = int( input(\"Please enter value for P: \"))\n",
    "Q = int( input(\"Please enter value for Q: \"))\n",
    "# To Swap the values of two variables.\n",
    "P, Q = Q, P\n",
    "print (\"The Value of P after swapping: \", P)\n",
    "print (\"The Value of Q after swapping: \", Q)"
   ]
  },
  {
   "cell_type": "markdown",
   "id": "3688776f",
   "metadata": {},
   "source": [
    "5. Write a Python program to generate a random number?"
   ]
  },
  {
   "cell_type": "code",
   "execution_count": 27,
   "id": "4ab8fe2f",
   "metadata": {},
   "outputs": [
    {
     "name": "stdout",
     "output_type": "stream",
     "text": [
      "7180\n"
     ]
    }
   ],
   "source": [
    "import random  \n",
    "n = random.randint(0,9999)  \n",
    "print(n)  "
   ]
  },
  {
   "cell_type": "code",
   "execution_count": null,
   "id": "6c9109d1",
   "metadata": {},
   "outputs": [],
   "source": []
  },
  {
   "cell_type": "code",
   "execution_count": null,
   "id": "7ecba573",
   "metadata": {},
   "outputs": [],
   "source": []
  }
 ],
 "metadata": {
  "kernelspec": {
   "display_name": "Python 3 (ipykernel)",
   "language": "python",
   "name": "python3"
  },
  "language_info": {
   "codemirror_mode": {
    "name": "ipython",
    "version": 3
   },
   "file_extension": ".py",
   "mimetype": "text/x-python",
   "name": "python",
   "nbconvert_exporter": "python",
   "pygments_lexer": "ipython3",
   "version": "3.9.12"
  }
 },
 "nbformat": 4,
 "nbformat_minor": 5
}
