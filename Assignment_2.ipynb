{
 "cells": [
  {
   "cell_type": "markdown",
   "id": "e4f2583b",
   "metadata": {},
   "source": [
    "\n",
    "Q1.What are the two values of the Boolean data type? How do you write them?\n",
    "\n",
    "Ans: true and false \n"
   ]
  },
  {
   "cell_type": "markdown",
   "id": "e3d346df",
   "metadata": {},
   "source": [
    "\n",
    "Q2. What are the three different types of Boolean operators? \n",
    "\n",
    "Ans:  AND, OR, and NOT.\n"
   ]
  },
  {
   "cell_type": "markdown",
   "id": "8dd8662d",
   "metadata": {},
   "source": [
    "Q3. Make a list of each Boolean operator's truth tables (i.e. every possible combination of Boolean\n",
    "values for the operator and what it evaluate ).\n"
   ]
  },
  {
   "cell_type": "markdown",
   "id": "69fdd445",
   "metadata": {},
   "source": [
    "Ans:- True and True is True.\n",
    "\n",
    "True and False is False.\n",
    "\n",
    "False and True is False.\n",
    "\n",
    "False and False is False.\n",
    "\n",
    "True or True is True.\n",
    "\n",
    "True or False is True.\n",
    "\n",
    "False or True is True.\n",
    "\n",
    "False or False is False.\n",
    "\n",
    "not True is False.\n",
    "\n",
    "not False is True."
   ]
  },
  {
   "cell_type": "markdown",
   "id": "c67de274",
   "metadata": {},
   "source": [
    "Q4. What are the values of the following expressions?"
   ]
  },
  {
   "cell_type": "code",
   "execution_count": 1,
   "id": "5f79d3a1",
   "metadata": {},
   "outputs": [
    {
     "name": "stdout",
     "output_type": "stream",
     "text": [
      "False\n",
      "False\n",
      "True\n",
      "False\n",
      "False\n",
      "True\n"
     ]
    }
   ],
   "source": [
    "print((5>4) and (3==5))\n",
    "print(not(5>4))\n",
    "print((5>4) or (3==5))\n",
    "print(not(5>4) or (3==5))\n",
    "print((True and True) and (True==False))\n",
    "print((not(False))or(not(True)))"
   ]
  },
  {
   "cell_type": "markdown",
   "id": "bfb4d7fb",
   "metadata": {},
   "source": [
    "Q5. What are the six comparison operators?\n",
    "\n",
    "Ans . ==, !=, <, >, <=, and >="
   ]
  },
  {
   "cell_type": "markdown",
   "id": "4be32575",
   "metadata": {},
   "source": [
    "Q6. How do you tell the difference between the equal to and assignment operators?Describe a condition and when you would use one.\n",
    "\n",
    "Ans:== is the equal to operator that compares two values and evaluates to a Boolean, while = is the assignment operator that stores a value in a variable."
   ]
  },
  {
   "cell_type": "code",
   "execution_count": 2,
   "id": "d4bc4393",
   "metadata": {},
   "outputs": [
    {
     "name": "stdout",
     "output_type": "stream",
     "text": [
      "False\n",
      "c = 1\n"
     ]
    }
   ],
   "source": [
    "# Equal To Operator\n",
    "if(7==4):\n",
    "    print(\"True\")\n",
    "else:\n",
    "    print(\"False\")\n",
    "#Assignment operator\n",
    "c=1 #here we have used assignment operator(=) to assign value of c which is 1\n",
    "print(\"c =\",c)"
   ]
  },
  {
   "cell_type": "markdown",
   "id": "e658bdd0",
   "metadata": {},
   "source": [
    "Q7. Identify the three blocks in this code.\n",
    "Ans:\n"
   ]
  },
  {
   "cell_type": "code",
   "execution_count": 3,
   "id": "4a527eff",
   "metadata": {},
   "outputs": [
    {
     "name": "stdout",
     "output_type": "stream",
     "text": [
      "ham\n",
      "spam\n",
      "spam\n"
     ]
    }
   ],
   "source": [
    "spam = 0\n",
    "if spam == 10:\n",
    "    print('eggs') #Block 1\n",
    "if spam > 5:\n",
    "    print('bacon') #Block 2\n",
    "else:\n",
    "    print('ham') #Block 3\n",
    "    print('spam')\n",
    "    print('spam')"
   ]
  },
  {
   "cell_type": "markdown",
   "id": "a02e1fb9",
   "metadata": {},
   "source": [
    "Q8. Write code that prints Hello if 1 is stored in spam, prints Howdy if 2 is stored in spam, and prints Greetings! if anything else is stored in spam.\n",
    "Ans:"
   ]
  },
  {
   "cell_type": "code",
   "execution_count": 12,
   "id": "b6a5e4ae",
   "metadata": {},
   "outputs": [
    {
     "name": "stdout",
     "output_type": "stream",
     "text": [
      "Greetings!\n",
      "Hello\n",
      "Howdy\n"
     ]
    }
   ],
   "source": [
    "for i in range(3):\n",
    "    if i==1:\n",
    "        print(\"Hello\")\n",
    "    elif i==2:\n",
    "        print(\"Howdy\")\n",
    "    else:\n",
    "        print(\"Greetings!\")"
   ]
  },
  {
   "cell_type": "markdown",
   "id": "56ee7ef4",
   "metadata": {},
   "source": [
    "Q9.If your programme is stuck in an endless loop, what keys you’ll press?\n",
    "\n",
    "Ans:CTRL+C"
   ]
  },
  {
   "cell_type": "markdown",
   "id": "62a31f12",
   "metadata": {},
   "source": [
    "Q10. How can you tell the difference between break and continue?\n",
    "Ans . The break statement will move the execution outside and just after a loop. The continue statement will move the execution to the start of the loop"
   ]
  },
  {
   "cell_type": "code",
   "execution_count": 19,
   "id": "676307ad",
   "metadata": {},
   "outputs": [
    {
     "name": "stdout",
     "output_type": "stream",
     "text": [
      "0\n",
      "1\n",
      "2\n",
      "3\n",
      "4\n",
      "this is break\n",
      "0\n",
      "1\n",
      "2\n",
      "3\n",
      "4\n",
      "6\n",
      "7\n",
      "8\n",
      "this is continue\n"
     ]
    }
   ],
   "source": [
    "#break\n",
    "for i in range(9):\n",
    "    if i==5:\n",
    "        break\n",
    "    print(i)\n",
    "print(\"this is break\")\n",
    "#continue\n",
    "for i in range(9):\n",
    "    if i==5:\n",
    "        continue\n",
    "    print(i)\n",
    "print(\"this is continue\")\n"
   ]
  },
  {
   "cell_type": "markdown",
   "id": "05ebb441",
   "metadata": {},
   "source": [
    "Q11. In a for loop, what is the difference between range(10), range(0, 10), and range(0, 10, 1)?\n",
    "Ans:There is no difference, the number in range function starts with zero excluding the upper limit and with jump of 1 at a time."
   ]
  },
  {
   "cell_type": "code",
   "execution_count": 26,
   "id": "81cf59da",
   "metadata": {},
   "outputs": [
    {
     "name": "stdout",
     "output_type": "stream",
     "text": [
      "0\n",
      ".\n",
      "1\n",
      ".\n",
      "2\n",
      ".\n",
      "3\n",
      ".\n",
      "4\n",
      ".\n",
      "5\n",
      ".\n",
      "6\n",
      ".\n",
      "7\n",
      ".\n",
      "8\n",
      ".\n",
      "9\n",
      ".\n",
      "0\n",
      "_\n",
      "1\n",
      "_\n",
      "2\n",
      "_\n",
      "3\n",
      "_\n",
      "4\n",
      "_\n",
      "5\n",
      "_\n",
      "6\n",
      "_\n",
      "7\n",
      "_\n",
      "8\n",
      "_\n",
      "9\n",
      "_\n",
      "0\n",
      "''\n",
      "1\n",
      "''\n",
      "2\n",
      "''\n",
      "3\n",
      "''\n",
      "4\n",
      "''\n",
      "5\n",
      "''\n",
      "6\n",
      "''\n",
      "7\n",
      "''\n",
      "8\n",
      "''\n",
      "9\n",
      "''\n"
     ]
    }
   ],
   "source": [
    "for i in range(10):\n",
    "    print(i)\n",
    "    print(\".\")\n",
    "      \n",
    "for i in range(0,10):\n",
    "    print(i)\n",
    "    print(\"_\")\n",
    "for i in range(0,10,1):\n",
    "    print(i)\n",
    "    print(\"''\")"
   ]
  },
  {
   "cell_type": "markdown",
   "id": "cd0262d9",
   "metadata": {},
   "source": [
    "Q12. Write a short program that prints the numbers 1 to 10 using a for loop. Then write an equivalent program that prints the numbers 1 to 10 using a while loop."
   ]
  },
  {
   "cell_type": "code",
   "execution_count": 27,
   "id": "07533896",
   "metadata": {},
   "outputs": [
    {
     "name": "stdout",
     "output_type": "stream",
     "text": [
      "For Loop\n",
      "1\n",
      "2\n",
      "3\n",
      "4\n",
      "5\n",
      "6\n",
      "7\n",
      "8\n",
      "9\n",
      "10\n",
      "While Loop\n",
      "1\n",
      "2\n",
      "3\n",
      "4\n",
      "5\n",
      "6\n",
      "7\n",
      "8\n",
      "9\n",
      "10\n"
     ]
    }
   ],
   "source": [
    "\"\"\"for\"\"\"\n",
    "print(\"For Loop\")\n",
    "for i in range(1,11):\n",
    "    print(i)\n",
    "\"\"\"while\"\"\"\n",
    "print(\"While Loop\")\n",
    "a =1\n",
    "while a <= 10:\n",
    "    print(a)\n",
    "    a+=1"
   ]
  },
  {
   "cell_type": "markdown",
   "id": "ba3c6bc4",
   "metadata": {},
   "source": [
    "Q13. If you had a function named bacon() inside a module named spam, how would you call it after importing spam?\n",
    "\n",
    "Ans:This function can be called with spam.bacon()."
   ]
  }
 ],
 "metadata": {
  "kernelspec": {
   "display_name": "Python 3 (ipykernel)",
   "language": "python",
   "name": "python3"
  },
  "language_info": {
   "codemirror_mode": {
    "name": "ipython",
    "version": 3
   },
   "file_extension": ".py",
   "mimetype": "text/x-python",
   "name": "python",
   "nbconvert_exporter": "python",
   "pygments_lexer": "ipython3",
   "version": "3.9.12"
  }
 },
 "nbformat": 4,
 "nbformat_minor": 5
}
