{
 "cells": [
  {
   "cell_type": "markdown",
   "id": "170df79e",
   "metadata": {},
   "source": [
    "1.To what does a relative path refer?\n"
   ]
  },
  {
   "cell_type": "markdown",
   "id": "cc8f7c16",
   "metadata": {},
   "source": [
    "A relative path refers to a location that is relative to a current directory. Relative paths make use of two special symbols, a dot (.) and a double-dot (..), which translate into the current directory and the parent directory. Double dots are used for moving up in the hierarchy."
   ]
  },
  {
   "cell_type": "markdown",
   "id": "aeb34710",
   "metadata": {},
   "source": [
    "2. What does an absolute path start with your operating system?"
   ]
  },
  {
   "cell_type": "markdown",
   "id": "d649e070",
   "metadata": {},
   "source": [
    "An absolute path refers to the complete details needed to locate a file or folder, starting from the root element and ending with the other subdirectories. Absolute paths are used in websites and operating systems for locating files and folders. An absolute path is also known as an absolute pathname or full path."
   ]
  },
  {
   "cell_type": "markdown",
   "id": "7198db79",
   "metadata": {},
   "source": [
    "3. What do the functions os.getcwd() and os.chdir() do?"
   ]
  },
  {
   "cell_type": "markdown",
   "id": "91408033",
   "metadata": {},
   "source": [
    "getcwd() : CWD stands for Current Working Directory. This function allows you to see what your current working directory is. chdir(\"path-to-dir\") : Short for CHange DIRectory, this function allows you to set the current working directory to a path of your choice."
   ]
  },
  {
   "cell_type": "markdown",
   "id": "8c318c84",
   "metadata": {},
   "source": [
    "4. What are the . and .. folders?"
   ]
  },
  {
   "cell_type": "markdown",
   "id": "3e25985a",
   "metadata": {},
   "source": [
    "\".\" is the current directory.\n",
    "\n",
    "\"..\" is the parent directory."
   ]
  },
  {
   "cell_type": "markdown",
   "id": "f5a72237",
   "metadata": {},
   "source": [
    "5. In C:\\bacon\\eggs\\spam.txt, which part is the dir name, and which part is the base name?"
   ]
  },
  {
   "cell_type": "markdown",
   "id": "f369e3d3",
   "metadata": {},
   "source": [
    "C:\\bacon\\eggs is the dir name, while spam.txt is the base name."
   ]
  },
  {
   "cell_type": "markdown",
   "id": "662db812",
   "metadata": {},
   "source": [
    "6.What are the three \"mode\" arguments that can be passed to the open() function?"
   ]
  },
  {
   "cell_type": "markdown",
   "id": "676c4182",
   "metadata": {},
   "source": [
    "'r' for read mode, 'w' for write mode, and 'a' for append mode"
   ]
  },
  {
   "cell_type": "markdown",
   "id": "976e2a1f",
   "metadata": {},
   "source": [
    "7. What happens if an existing file is opened in write mode?"
   ]
  },
  {
   "cell_type": "markdown",
   "id": "d0469853",
   "metadata": {},
   "source": [
    "An existing file opened in write mode is erased and completely overwritten.\n"
   ]
  },
  {
   "cell_type": "markdown",
   "id": "db4f9493",
   "metadata": {},
   "source": [
    "8. How do you tell the difference between read() and readlines()?"
   ]
  },
  {
   "cell_type": "markdown",
   "id": "97ec1355",
   "metadata": {},
   "source": [
    "Python readline() is a file method that helps to read one complete line from the given file. It has a trailing newline (“\\n”) at the end of the string returned.\n",
    "The read() method returns the specified number of bytes from the file. Default is -1 which means the whole file.\n",
    "\n"
   ]
  },
  {
   "cell_type": "markdown",
   "id": "e65f08cb",
   "metadata": {},
   "source": [
    "9. What data structure does a shelf value resemble?"
   ]
  },
  {
   "cell_type": "markdown",
   "id": "86b1b54e",
   "metadata": {},
   "source": [
    "A shelf value resemble dictionary data structure."
   ]
  },
  {
   "cell_type": "code",
   "execution_count": 2,
   "id": "fc4b131b",
   "metadata": {},
   "outputs": [
    {
     "data": {
      "text/plain": [
       "'C:\\\\Users\\\\Rajiv Jajodia\\\\Downloads\\\\19.2.MySQL\\\\19.2.MySQL'"
      ]
     },
     "execution_count": 2,
     "metadata": {},
     "output_type": "execute_result"
    }
   ],
   "source": [
    "pwd"
   ]
  },
  {
   "cell_type": "code",
   "execution_count": null,
   "id": "08f477f9",
   "metadata": {},
   "outputs": [],
   "source": []
  }
 ],
 "metadata": {
  "kernelspec": {
   "display_name": "Python 3 (ipykernel)",
   "language": "python",
   "name": "python3"
  },
  "language_info": {
   "codemirror_mode": {
    "name": "ipython",
    "version": 3
   },
   "file_extension": ".py",
   "mimetype": "text/x-python",
   "name": "python",
   "nbconvert_exporter": "python",
   "pygments_lexer": "ipython3",
   "version": "3.9.12"
  }
 },
 "nbformat": 4,
 "nbformat_minor": 5
}
